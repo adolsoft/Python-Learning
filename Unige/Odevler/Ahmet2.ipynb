{
 "cells": [
  {
   "cell_type": "markdown",
   "metadata": {},
   "source": [
    "# Travail pratique n°2"
   ]
  },
  {
   "cell_type": "markdown",
   "metadata": {},
   "source": [
    "## Les conditions"
   ]
  },
  {
   "cell_type": "markdown",
   "metadata": {},
   "source": [
    "### Exercice 1\n",
    "Écrivez un programme pour trouver un maximum entre trois nombres en utilisant une if-else ou if imbriquée."
   ]
  },
  {
   "cell_type": "code",
   "execution_count": 3,
   "metadata": {},
   "outputs": [
    {
     "ename": "ValueError",
     "evalue": "invalid literal for int() with base 10: ''",
     "output_type": "error",
     "traceback": [
      "\u001b[1;31m---------------------------------------------------------------------------\u001b[0m",
      "\u001b[1;31mValueError\u001b[0m                                Traceback (most recent call last)",
      "Cell \u001b[1;32mIn[3], line 1\u001b[0m\n\u001b[1;32m----> 1\u001b[0m number1 \u001b[38;5;241m=\u001b[39m \u001b[38;5;28;43mint\u001b[39;49m\u001b[43m(\u001b[49m\u001b[38;5;28;43minput\u001b[39;49m\u001b[43m(\u001b[49m\u001b[38;5;124;43m\"\u001b[39;49m\u001b[38;5;124;43mEntrez le premier numéro :\u001b[39;49m\u001b[38;5;124;43m\"\u001b[39;49m\u001b[43m)\u001b[49m\u001b[43m)\u001b[49m\n\u001b[0;32m      2\u001b[0m number2 \u001b[38;5;241m=\u001b[39m \u001b[38;5;28mint\u001b[39m(\u001b[38;5;28minput\u001b[39m(\u001b[38;5;124m\"\u001b[39m\u001b[38;5;124mEntrez le deuxième numéro :\u001b[39m\u001b[38;5;124m\"\u001b[39m))\n\u001b[0;32m      3\u001b[0m number3 \u001b[38;5;241m=\u001b[39m \u001b[38;5;28mint\u001b[39m(\u001b[38;5;28minput\u001b[39m(\u001b[38;5;124m\"\u001b[39m\u001b[38;5;124mEntrez le troisième numéro :\u001b[39m\u001b[38;5;124m\"\u001b[39m))\n",
      "\u001b[1;31mValueError\u001b[0m: invalid literal for int() with base 10: ''"
     ]
    }
   ],
   "source": [
    "number1 = int(input(\"Entrez le premier numéro :\"))\n",
    "number2 = int(input(\"Entrez le deuxième numéro :\"))\n",
    "number3 = int(input(\"Entrez le troisième numéro :\"))\n",
    "\n",
    "largest_number = number1\n",
    "\n",
    "if number2 > largest_number:\n",
    "    largest_number = number2\n",
    "\n",
    "if number3 > largest_number:\n",
    "    largest_number = number3\n",
    "\n",
    "print(f\"Le plus grand nombre : {largest_number}\")    \n",
    "\n",
    "\n"
   ]
  },
  {
   "cell_type": "markdown",
   "metadata": {},
   "source": [
    "### Exercice 2\n",
    "Écrivez un programme pour vérifier si une lettre est une voyelle ou une consonne en utilisant if-else.\n",
    "Les lettres a, e, i, o et u en minuscules et en majuscules sont appelées voyelles. Les lettres autres que les voyelles sont appelées consonnes.\n"
   ]
  },
  {
   "cell_type": "code",
   "execution_count": 3,
   "metadata": {},
   "outputs": [
    {
     "name": "stdout",
     "output_type": "stream",
     "text": [
      "a est une voyelle.\n",
      "Bonjour\n",
      "B est une consonne.\n",
      "o est une voyelle..\n",
      "n est une consonne.\n",
      "j est une consonne.\n",
      "o est une voyelle..\n",
      "u est une voyelle..\n",
      "r est une consonne.\n"
     ]
    }
   ],
   "source": [
    "lettre = input(\"Saisissez une lettre :\")\n",
    "\n",
    "voyelles_letters = \"aeiouAEIOU\"\n",
    "#print(type(voyelles_letters))\n",
    "if lettre in voyelles_letters:\n",
    "    print(lettre, \"est une voyelle.\")\n",
    "else:\n",
    "    print(lettre, \"est une consonne.\")   \n",
    "\n",
    "mot = \"Bonjour\"\n",
    "print(\"Bonjour\")\n",
    "for lettre in mot:\n",
    "    if lettre in voyelles_letters:\n",
    "        print(lettre, \"est une voyelle..\")\n",
    "    else:\n",
    "        print(lettre, \"est une consonne.\")\n"
   ]
  },
  {
   "cell_type": "markdown",
   "metadata": {},
   "source": [
    "### Exercice 3\n",
    "Vous allez devoir écrire un code qui permet de savoir si une année est bissextile ou non.\n",
    "Aide : si l'année est divisible par 4 et non divisible par 100, ou\n",
    "Si l'année est divisible par 400 alors l’année est bissextile.\n",
    "Sinon, l'année n'est pas bissextile (elle a 365 jours)."
   ]
  },
  {
   "cell_type": "code",
   "execution_count": 9,
   "metadata": {},
   "outputs": [
    {
     "name": "stdout",
     "output_type": "stream",
     "text": [
      "1981 l'année n'est pas une année bissextile.\n"
     ]
    }
   ],
   "source": [
    "annee = int(input(\"Entrez une année :\"))\n",
    "\n",
    "if (annee % 4 == 0 and annee % 100 !=0 ) or annee % 400 == 0 :\n",
    "    print(f\"{annee } l'année est une année bissextile.\")\n",
    "else:\n",
    "    print(f\"{annee } l'année n'est pas une année bissextile.\")\n"
   ]
  },
  {
   "cell_type": "markdown",
   "metadata": {},
   "source": [
    "### Exercice 4\n",
    "Les CFF ont mis en place un nouveau tarif pour la ligne Genève - Lausanne en fonction de différentes tranches d'âges : inférieur à 18 ans : 25 CHF, entre 18 et 25 : 30CHF, entre 25 et 60 : 40 CHF et enfin 28 CHF pour les personnes de plus de 60 ans. Le programme doit donner une tranche d'âge possible d'une personne en se basant sur le prix du ticket. "
   ]
  },
  {
   "cell_type": "markdown",
   "metadata": {},
   "source": []
  },
  {
   "cell_type": "code",
   "execution_count": 10,
   "metadata": {},
   "outputs": [
    {
     "name": "stdout",
     "output_type": "stream",
     "text": [
      "18-25 ans\n"
     ]
    }
   ],
   "source": [
    "prix_billet = int(input(\"Entrez le prix du billet :\"))\n",
    "\n",
    "if prix_billet == 18:\n",
    "    print(\"moins de 18 ans\")\n",
    "elif prix_billet == 30:\n",
    "    print(\"18-25 ans\")\n",
    "elif prix_billet == 40:\n",
    "    print(\"25-60 ans\")\n",
    "elif prix_billet == 28:\n",
    "   print(\"plus de 60 ans\")\n",
    "else:\n",
    "    print(\"Prix ​​du billet invalide\")\n",
    "\n",
    "\n"
   ]
  },
  {
   "cell_type": "markdown",
   "metadata": {},
   "source": [
    "### Exercice 5\n",
    "Écrivez un programme qui prend trois angles en entrée et indique en retour si les angles forment un triangle quelconque, un triangle rectangle, un triangle isocèle ou encore un triangle équilatéral.\n"
   ]
  },
  {
   "cell_type": "code",
   "execution_count": 15,
   "metadata": {},
   "outputs": [
    {
     "name": "stdout",
     "output_type": "stream",
     "text": [
      "Triangle rectangle\n"
     ]
    }
   ],
   "source": [
    "angle1 = int(input(\"Entrez le premier angle :\"))\n",
    "angle2 = int(input(\"Entrez le deuxième angle :\"))\n",
    "angle3 = int(input(\"Entrez le troisième angle :\"))\n",
    "\n",
    "# Condition pour être un triangle : La somme des angles doit être de 180 degrés\n",
    "if angle1 + angle2 + angle3 != 180:\n",
    "    print(\"Ces angles ne peuvent pas former un triangle.\")\n",
    "\n",
    "# Déterminer le type de triangle\n",
    "elif angle1 == 90 or angle2 == 90 or angle3 == 90: \n",
    "    if angle1 == 45 or angle2 == 45 or angle3 == 45:\n",
    "        print(\"triangle isocèle\")\n",
    "    print(\"Triangle rectangle\")\n",
    "elif angle1 == angle2 == angle3:\n",
    "    print(\"Triangle équilatéral\")\n",
    "elif angle1 == angle2 or angle1 == angle3 or angle2 == angle3:\n",
    "    print(\"triangle isocèle\") \n",
    "else:\n",
    "    print(\"triangle scalène\") \n",
    "   \n",
    "  \n",
    "\n",
    "\n",
    "\n",
    "\n",
    "\n",
    "\n",
    "\n"
   ]
  },
  {
   "cell_type": "markdown",
   "metadata": {},
   "source": [
    "## Les boucles"
   ]
  },
  {
   "cell_type": "markdown",
   "metadata": {},
   "source": [
    "### Exercice 1\n",
    "Écrire un programme qui calcule la somme des n premiers entiers (n est un entier saisi par l'utilisateur).\n"
   ]
  },
  {
   "cell_type": "code",
   "execution_count": 17,
   "metadata": {},
   "outputs": [
    {
     "name": "stdout",
     "output_type": "stream",
     "text": [
      "Somme des nombres de 1 à  100 : 5050\n"
     ]
    }
   ],
   "source": [
    "nombre = int(input(\"Entrez un numéro.\"))\n",
    "\n",
    "total = 0\n",
    "for i in range(1, nombre + 1):\n",
    "    total = total + i\n",
    "    \n",
    "print(\"Somme des nombres de 1 à \", nombre, \":\", total)"
   ]
  },
  {
   "cell_type": "markdown",
   "metadata": {},
   "source": [
    "### Exercice 2\n",
    "Écrire un programme qui réalise cet affichage :\n",
    "\n",
    "***** <br>\n",
    "**** <br>\n",
    "*** <br>\n",
    "** <br>\n",
    "*\n"
   ]
  },
  {
   "cell_type": "code",
   "execution_count": 18,
   "metadata": {},
   "outputs": [
    {
     "name": "stdout",
     "output_type": "stream",
     "text": [
      "*****\n",
      "****\n",
      "***\n",
      "**\n",
      "*\n"
     ]
    }
   ],
   "source": [
    "for i in range(5, 0, -1):\n",
    "  print(\"*\" * i)"
   ]
  },
  {
   "cell_type": "markdown",
   "metadata": {},
   "source": [
    "### Exercice 3\n",
    "Écrivez un programme qui détermine si un nombre entré par l’utilisateur est premier. Pour rappel, un nombre est dit premier s’il n’est divisible que par un et par lui-même. \n"
   ]
  },
  {
   "cell_type": "code",
   "execution_count": 57,
   "metadata": {},
   "outputs": [
    {
     "name": "stdout",
     "output_type": "stream",
     "text": [
      "Asaldır\n"
     ]
    }
   ],
   "source": [
    "nomber = int(input(\"Entrez un numéro :\"))\n",
    "\n",
    "if nomber >= 1:\n",
    "    \n",
    "    for i in range(2, int(nomber**0.5)+1):\n",
    "        if nomber % i == 0:\n",
    "            sonuc = \"Asal Değildir.\"\n",
    "            break\n",
    "        else:\n",
    "            sonuc = \"Asaldır\"\n",
    "\n",
    "else:\n",
    "    print(\"Les nombres inférieurs à 1 ne sont pas premiers\")\n",
    "\n",
    "print(sonuc )\n",
    "\n",
    "\n",
    "#Neden karekök? Bir sayının çarpanları simetriktir. Yani bir sayı x'e tam bölünüyorsa, aynı zamanda sayı/x'e de tam bölünür. Bu nedenle, bir sayının en büyük asal çarpanı, o sayının kareköküne eşit veya daha küçük olacaktır. Bu yüzden, 2'den başlayıp sayının kareköküne kadar olan sayılara bölerek kontrol etmek yeterlidir."
   ]
  },
  {
   "cell_type": "markdown",
   "metadata": {},
   "source": [
    "### Exercice 4\n",
    "Vous allez devoir écrire un programme qui choisit au hasard un nombre entre 0 et 20, et propose à l'utilisateur de le deviner en décomptant les essais. Si l'utilisateur arrive à plus de 6 essais, il/elle a perdu. À chaque essai, le programme doit informer l'utilisateur si son entrée est plus grande ou plus petite que le nombre à deviner.\n"
   ]
  },
  {
   "cell_type": "code",
   "execution_count": 2,
   "metadata": {},
   "outputs": [],
   "source": [
    "import random\n",
    "\n",
    "nombre_mystere = random.randint(0, 20)\n",
    "essais = 0\n",
    "\n",
    "print(\"J'ai choisi un nombre entre 0 et 20. À vous de le deviner !\")\n",
    "\n",
    "while essais < 6:\n",
    "    essaie = int(input(\"Votre proposition : \"))\n",
    "    essais += 1\n",
    "\n",
    "    if essaie < nombre_mystere:\n",
    "        print(\"C'est plus !\")\n",
    "    elif essaie > nombre_mystere:\n",
    "        print(\"C'est moins !\")\n",
    "    else:\n",
    "        print(f\"Félicitations, vous avez trouvé le nombre en {essais} essais !\")\n",
    "        break\n",
    "\n",
    "if essais == 6:\n",
    "    print(f\"Désolé, vous n'avez pas trouvé. Le nombre était {nombre_mystere}.\")"
   ]
  },
  {
   "cell_type": "markdown",
   "metadata": {},
   "source": [
    "### Exercice 5\n",
    "Un fermier fait l'élevage de moutons et de dindons et, au moment de payer ses impôts, il déclare curieusement: j’ai dans mon élevage 36 têtes et 100 pattes ! \n",
    "Créer un programme avec une boucle qui permet de compter le nombre de moutons et de dindons."
   ]
  },
  {
   "cell_type": "code",
   "execution_count": 7,
   "metadata": {},
   "outputs": [
    {
     "name": "stdout",
     "output_type": "stream",
     "text": [
      "Il y a des 14 moutons et des 22 dindes à la ferme.\n"
     ]
    }
   ],
   "source": [
    "def bul_hayvan_sayisi(toplam_kafa, toplam_bacak):\n",
    "\n",
    "  koyun_sayisi = 0\n",
    "  while koyun_sayisi <= toplam_kafa:\n",
    "    hindi_sayisi = toplam_kafa - koyun_sayisi\n",
    "    toplam_bacak_hesap = 4 * koyun_sayisi + 2 * hindi_sayisi\n",
    "    #print(\"nombre de dindes \", hindi_sayisi)\n",
    "    #print(\"nombre de moutons \", koyun_sayisi)\n",
    "    #print(\"nombre total de pattes\", toplam_bacak_hesap)\n",
    "\n",
    "    if toplam_bacak_hesap == toplam_bacak:\n",
    "      return koyun_sayisi, hindi_sayisi\n",
    "    koyun_sayisi += 1\n",
    "\n",
    "  return -1, -1  # Çözüm bulunamadı\n",
    "\n",
    "# Kullanıcıdan değerleri al\n",
    "toplam_kafa = int(input(\"Nombre total d'animaux : \"))\n",
    "toplam_bacak = int(input(\"Nombre total de pattes : \"))\n",
    "\n",
    "# Fonksiyonu çağır ve sonuçları yazdır\n",
    "koyun, hindi = bul_hayvan_sayisi(toplam_kafa, toplam_bacak)\n",
    "\n",
    "if koyun != -1 and hindi != -1:\n",
    "  print(f\"Il y a des {koyun} moutons et des {hindi} dindes à la ferme.\")\n",
    "else:\n",
    "  print(\"Aucune solution trouvée avec les valeurs données\")"
   ]
  }
 ],
 "metadata": {
  "kernelspec": {
   "display_name": "Python 3",
   "language": "python",
   "name": "python3"
  },
  "language_info": {
   "codemirror_mode": {
    "name": "ipython",
    "version": 3
   },
   "file_extension": ".py",
   "mimetype": "text/x-python",
   "name": "python",
   "nbconvert_exporter": "python",
   "pygments_lexer": "ipython3",
   "version": "3.12.6"
  },
  "orig_nbformat": 4
 },
 "nbformat": 4,
 "nbformat_minor": 2
}
