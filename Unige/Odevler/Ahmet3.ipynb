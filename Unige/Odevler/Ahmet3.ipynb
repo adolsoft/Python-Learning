{
 "cells": [
  {
   "cell_type": "markdown",
   "metadata": {},
   "source": [
    "# TP3 - Collections et fonctions"
   ]
  },
  {
   "cell_type": "markdown",
   "metadata": {},
   "source": [
    "## Les collections"
   ]
  },
  {
   "cell_type": "markdown",
   "metadata": {},
   "source": [
    "### Exercice 1\n",
    "Déclarer une liste de 10 éléments avec les nombres de 1 à 10.\n",
    "Afficher les valeurs séparées par une virgule (dans la console)."
   ]
  },
  {
   "cell_type": "code",
   "execution_count": 3,
   "metadata": {},
   "outputs": [
    {
     "name": "stdout",
     "output_type": "stream",
     "text": [
      "['Bonjour', 'Je', \"m'appelle\", 'Je', 'suis', 'turc.', \"J'ai\", '44', 'ans.', 'Ahmet.']\n"
     ]
    }
   ],
   "source": [
    "message = [\"Bonjour\", \"Je\", \"m'appelle\", \"Je\", \"suis\",\"turc.\",\"J'ai\",\"44\",\"ans.\", \"Ahmet.\"]\n",
    "print(message) "
   ]
  },
  {
   "cell_type": "markdown",
   "metadata": {},
   "source": [
    "### Exercice 2\n",
    "Écrivez un programme qui demande 5 nombres à l’utilisateur et\n",
    "affiche en retour le nombre le plus grand de la liste.\n",
    "Faites le programme en deux parties : 1. stockage des valeurs, 2.\n",
    "recherche du plus grand élément."
   ]
  },
  {
   "cell_type": "code",
   "execution_count": 6,
   "metadata": {},
   "outputs": [
    {
     "name": "stdout",
     "output_type": "stream",
     "text": [
      "['5', '6', '4', '2', '8']\n",
      "En büyük sayı : 8\n"
     ]
    }
   ],
   "source": [
    "sayi_listesi = []\n",
    "sayi = 0\n",
    "for i in range(5):\n",
    "    sayi_listesi.append(input(f\"{i+1}. sayıyı giriniz\"))\n",
    "\n",
    "print(sayi_listesi)\n",
    "\n",
    "print(f\"En büyük sayı :\",max(sayi_listesi))"
   ]
  },
  {
   "cell_type": "markdown",
   "metadata": {},
   "source": [
    "### Exercice 3\n",
    "Écrivez un programme qui permet d’entrer une chaîne de caractères\n",
    "(un mot, un nom, etc.) et affiche le mot inversé. <br>\n",
    "!!! Les chaînes de caractères sont des \"listes\" de caractères."
   ]
  },
  {
   "cell_type": "code",
   "execution_count": 7,
   "metadata": {},
   "outputs": [
    {
     "name": "stdout",
     "output_type": "stream",
     "text": [
      "Ters kelime: ruojnoB\n"
     ]
    }
   ],
   "source": [
    "kelime = input(\"Bir kelime girin: \")\n",
    "ters_kelime = kelime[::-1]\n",
    "print(\"Ters kelime:\", ters_kelime)"
   ]
  },
  {
   "cell_type": "markdown",
   "metadata": {},
   "source": [
    "### Exercice 4\n",
    "Écrivez un programme qui permet de calculer le prix total d’un panier de biens.\n",
    "Le nombre de chaque bien est stocké dans une liste et les\n",
    "prix de chaque bien dans une autre liste. <br>\n",
    "-> le nombre de biens du produit i est nombre[i] et le prix est prix[i].<br>\n",
    "!!! Pour parcourir les deux listes, en même temps, on vous\n",
    "conseille d’utiliser la notation pour i de 0 jusqu’à taille.\n",
    "Pour cela, vous pouvez accéder aux nombres d’éléments d’une liste\n",
    "avec la fonction len() -> len(liste)."
   ]
  },
  {
   "cell_type": "code",
   "execution_count": 5,
   "metadata": {},
   "outputs": [
    {
     "name": "stdout",
     "output_type": "stream",
     "text": [
      "Prix ​​total du panier : 26 chf\n"
     ]
    }
   ],
   "source": [
    "# panier_total_prix = sepet_toplam_fiyat\n",
    "# quantité_produit = urun_adetleri\n",
    "# prix_produit = urun_fiyatı\n",
    "# prix_total = toplam_fiyat\n",
    "\n",
    "def panier_total_prix(quantite_produit, prix_produit):\n",
    "     prix_total = 0\n",
    "     for i in range(len(quantite_produit)):\n",
    "          prix_total +=quantite_produit[i]*prix_produit[i]\n",
    "     return prix_total\n",
    "\n",
    "\n",
    "# Örnek kullanım:\n",
    "produits = [2, 3, 1]  # 2 pommes, 3 bananes, 1 ananas\n",
    "prix = [5, 2, 10]  # Pomme 5 TL, banane 2 TL, ananas 10 chf\n",
    "\n",
    "resultat = panier_total_prix(produits, prix)\n",
    "print(\"Prix ​​total du panier :\", resultat, \"chf\")"
   ]
  },
  {
   "cell_type": "markdown",
   "metadata": {},
   "source": [
    "### Exercice 5\n",
    "Réécrivez l’exercice des consonnes et des voyelles en\n",
    "utilisant une liste.\n",
    "Rappel exercice : Écrivez un programme pour vérifier si une lettre\n",
    "est une voyelle ou une consonne en utilisant if-else.\n",
    "Les lettres a, e, i, o et u en minuscules et en majuscules sont\n",
    "appelées voyelles. Les lettres autres que les voyelles sont appelées consonnes.\n",
    "\n",
    "### Exercice 5.1\n",
    "Modifiez le programme de telle sorte que l’utilisateur puisse entrer\n",
    "un mot. Le programme retourne en sortie le même mot sauf sans les\n",
    "voyelles. (par exemple arbre donne rbr)."
   ]
  },
  {
   "cell_type": "code",
   "execution_count": 9,
   "metadata": {},
   "outputs": [
    {
     "name": "stdout",
     "output_type": "stream",
     "text": [
      "B\n",
      "o\n",
      "n\n",
      "j\n",
      "o\n",
      "u\n",
      "r\n",
      "Sesli harfsiz kelime: Bnjr\n"
     ]
    }
   ],
   "source": [
    "#  delete_voyelles  = sesli_harfleri_sil  \n",
    "# voyelles_letters = sesli_harfler \n",
    "# mot = kelime   nouveau_mot = yeni_kelime\n",
    "# Mot sans voyelle = Sesli harfsiz kelime:\n",
    "# harf = lettre  sonuc = conclusion\n",
    "\n",
    "\n",
    "def delete_voyelles(mots):\n",
    "    voyelles_letters = \"aeiouAEIOU\"\n",
    "    nouveau_mot = \"\"\n",
    "    for lettre in mots:\n",
    "        #print(lettre)\n",
    "        if lettre not in voyelles_letters:\n",
    "            nouveau_mot += lettre\n",
    "    return nouveau_mot        \n",
    "\n",
    "mots = input(\"Bir Kelime Giriniz :\")\n",
    "conclusion = delete_voyelles(mots)\n",
    "\n",
    "print(\"Mot sans voyelle :\", conclusion)"
   ]
  },
  {
   "cell_type": "markdown",
   "metadata": {},
   "source": [
    "## Les fonctions"
   ]
  },
  {
   "cell_type": "markdown",
   "metadata": {},
   "source": [
    "### Exercice 1\n",
    "Écrivez la fonction _echo_ qui prend deux paramètres : un mot w et un\n",
    "nombre n et qui produit en résultat l’affichage du mot w n fois.\n",
    "<br>Par exemple, _echo(“salut”, 3)_ affiche salut 3 fois."
   ]
  },
  {
   "cell_type": "code",
   "execution_count": 10,
   "metadata": {},
   "outputs": [
    {
     "name": "stdout",
     "output_type": "stream",
     "text": [
      "Salut\n",
      "Salut\n",
      "Salut\n",
      "Salut\n"
     ]
    }
   ],
   "source": [
    "def echo(mot, n):\n",
    "    for i in range(n):\n",
    "        print(mot)\n",
    "\n",
    "echo(\"Salut\", 4)"
   ]
  },
  {
   "cell_type": "markdown",
   "metadata": {},
   "source": [
    "### Exercice 2\n",
    "Écrivez la fonction _estDans_ qui prend en paramètre un symbole et un\n",
    "mot. Le programme retourne vrai si le symbole est dans le mot, sinon\n",
    "il retourne faux.\n",
    "<br>Par exemple, _estDans(‘a’,”loup”)_ retourne faux.\n",
    "\n",
    "### Exercice 2.1\n",
    "Créez une nouvelle fonction _estAdresseMail_ qui utilise celle-ci pour\n",
    "tester si une chaine de caractères (le paramètre de la fonction) est\n",
    "un email ou pas.\n",
    "Ici, on définit qu’une chaine de caractères est un email si elle\n",
    "possède un @ et si elle possède un . situé après le @.\n",
    "Par exemple, estAdresseMail(“exemple@domaine.com”) retourne vrai."
   ]
  },
  {
   "cell_type": "code",
   "execution_count": 11,
   "metadata": {},
   "outputs": [
    {
     "name": "stdout",
     "output_type": "stream",
     "text": [
      "True\n"
     ]
    }
   ],
   "source": [
    "def estAdresseMail(adresse):\n",
    "  \n",
    "  return '@' in adresse and '.' in adresse[adresse.index('@')+1:]\n",
    "\n",
    "address = input(\"Votre adresse e-mail\")\n",
    "controle = estAdresseMail(address)\n",
    "print(controle)\n",
    "\n",
    "\n"
   ]
  },
  {
   "cell_type": "markdown",
   "metadata": {},
   "source": [
    "### Exercice 3\n",
    "Écrivez la fonction _crypter_ qui prend en paramètre un texte (chaine\n",
    "de caractères) et une clé (entier), le programme retourne en sortie \n",
    "le texte crypté avec la clé de la manière suivante :<br><br>\n",
    "La clé i représente le décalage des lettres du texte (ordre\n",
    "alphabétique). <br>Par exemple la clé 5 appliqué à la lettre *m* donne la\n",
    "lettre *r* car *m -1> n -2> o -3> p -4> q -5> r*.<br><br>\n",
    "!!! Il ne faut pas sortir de l’alphabet. Pour cela vous pouvez\n",
    "utiliser modulo pour que la clé 3 appliqué à z donne c (z -> a -> b\n",
    "-> c).<br>\n",
    "Par exemple crypter(“secret”,3) donne “vhfuhw”.\n",
    "\n",
    "### Exercice 3.1\n",
    "Ensuite écrivez la fonction decrypter qui prend en paramètre un\n",
    "texte crypté (par la fonction ci-haut) et une clé et retourne en\n",
    "résultat le texte décrypté.<br><br>\n",
    "!!! Pour la fonction decrypter, l’ordre du décalage doit être\n",
    "inversé. Par exemple, la clé 5 appliqué à r donne m."
   ]
  },
  {
   "cell_type": "code",
   "execution_count": 1,
   "metadata": {},
   "outputs": [
    {
     "name": "stdout",
     "output_type": "stream",
     "text": [
      "106\n",
      "104\n",
      "117\n",
      "107\n",
      "100\n",
      "101\n",
      "100\n",
      "103\n",
      "101\n",
      "114\n",
      "104\n",
      "97\n",
      "98\n",
      "97\n",
      "Phukded\n",
      "Merhaba\n"
     ]
    }
   ],
   "source": [
    "def crypter(texte, cle):\n",
    "  \"\"\"\n",
    "  Verilen bir metni, belirtilen bir anahtar ile Caesar şifrelemesi yöntemiyle şifreler.\n",
    "\n",
    "  Args:\n",
    "    texte: Şifrelenecek metin.\n",
    "    cle: Şifreleme için kullanılacak anahtar (kaydırma miktarı).\n",
    "\n",
    "  Returns:\n",
    "    Şifrelenmiş metin.\n",
    "  \"\"\"\n",
    "\n",
    "  texte_crypte = \"\"\n",
    "  for caractere in texte:\n",
    "    if caractere.isalpha():\n",
    "      # Büyük veya küçük harf olup olmadığına göre işlem yapar\n",
    "      if caractere.isupper():\n",
    "        # Büyük harfler için şifreleme\n",
    "        texte_crypte += chr((ord(caractere) - ord('A') + cle) % 26 + ord('A'))\n",
    "       # print((ord(caractere) - ord('a') + cle) % 26 + ord('a'))\n",
    "      else:\n",
    "        # Küçük harfler için şifreleme\n",
    "        texte_crypte += chr((ord(caractere) - ord('a') + cle) % 26 + ord('a'))\n",
    "       # print((ord(caractere) - ord('a') + cle) % 26 + ord('a'))\n",
    "    else:\n",
    "      # Harf olmayan karakterler olduğu gibi eklenir\n",
    "      texte_crypte += caractere\n",
    "  return texte_crypte\n",
    "\n",
    "def decrypter(texte_crypte, cle):\n",
    "  \"\"\"\n",
    "  Verilen bir şifreli metni, belirtilen anahtar ile Caesar şifrelemesinin tersini uygulayarak deşifre eder.\n",
    "\n",
    "  Args:\n",
    "    texte_crypte: Şifrelenmiş metin.\n",
    "    cle: Şifrelemede kullanılan anahtar.\n",
    "\n",
    "  Returns:\n",
    "    Deşifre edilmiş metin.\n",
    "  \"\"\"\n",
    "\n",
    "  return crypter(texte_crypte, -cle)\n",
    "\n",
    "sifrenecek_metin = input(\"Entrez le mot de passe :\") # Sifrenecek Kelime Gir \n",
    "anahtar_sayi_gir = input(\"Entrer le numéro de clé :\") # Sifrenecek Kelime Gir \n",
    "sifreli_metin = crypter(sifrenecek_metin, int(anahtar_sayi_gir))\n",
    "cozulmuz_metin = decrypter(sifreli_metin,  int(anahtar_sayi_gir))\n",
    "\n",
    "print(sifreli_metin)\n",
    "print(cozulmuz_metin)"
   ]
  }
 ],
 "metadata": {
  "kernelspec": {
   "display_name": "Python 3",
   "language": "python",
   "name": "python3"
  },
  "language_info": {
   "codemirror_mode": {
    "name": "ipython",
    "version": 3
   },
   "file_extension": ".py",
   "mimetype": "text/x-python",
   "name": "python",
   "nbconvert_exporter": "python",
   "pygments_lexer": "ipython3",
   "version": "3.12.6"
  }
 },
 "nbformat": 4,
 "nbformat_minor": 2
}
